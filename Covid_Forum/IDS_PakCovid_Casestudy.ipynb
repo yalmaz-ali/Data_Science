{
  "cells": [
    {
      "cell_type": "code",
      "execution_count": null,
      "metadata": {
        "id": "JIaRkw7Q8zlD"
      },
      "outputs": [],
      "source": [
        "import folium\n",
        "import pandas as pd"
      ]
    },
    {
      "cell_type": "code",
      "execution_count": null,
      "metadata": {
        "id": "YnHug2I5gY4o"
      },
      "outputs": [],
      "source": [
        "pakistan_map = folium.Map(location = [31.17,72.7],zoom_start=6.5,tiles='OpenStreetMap')"
      ]
    },
    {
      "cell_type": "code",
      "execution_count": null,
      "metadata": {
        "colab": {
          "base_uri": "https://localhost:8080/"
        },
        "id": "bkieV8AqgqEh",
        "outputId": "c0930c73-e8f8-41c5-9d52-da1733ab098c"
      },
      "outputs": [],
      "source": [
        "from google.colab import drive\n",
        "drive.mount('/content/drive')"
      ]
    },
    {
      "cell_type": "code",
      "execution_count": null,
      "metadata": {
        "colab": {
          "base_uri": "https://localhost:8080/",
          "height": 1000
        },
        "id": "rDuv3l8_iXkC",
        "outputId": "09f69620-7a84-4ced-d9e4-9b66728ccbd8"
      },
      "outputs": [],
      "source": [
        "df = pd.read_csv('/content/drive/MyDrive/files/covid_data.csv')\n",
        "df"
      ]
    },
    {
      "cell_type": "code",
      "execution_count": null,
      "metadata": {
        "id": "xGmsNI_ZmTK3"
      },
      "outputs": [],
      "source": [
        "t = 0\n",
        "for c in df['Total_Cases']:\n",
        "  t = int(c)+int(t)"
      ]
    },
    {
      "cell_type": "code",
      "execution_count": null,
      "metadata": {
        "colab": {
          "base_uri": "https://localhost:8080/",
          "height": 583
        },
        "id": "TupupCGRkqDQ",
        "outputId": "9b5f5d7a-c47d-450c-a576-c0cdaaac3a64"
      },
      "outputs": [],
      "source": [
        "for city,lat,lon,tc,re,de in zip(list(df['City']),list(df['Latitude']),list(df['Longitude']),list(df['Total_Cases']),list(df['Recoveries']),list(df['Deaths'])):\n",
        "    folium.CircleMarker(location = [lat,lon],\n",
        "                       radius = (tc/t)*100,\n",
        "                       color = 'black',\n",
        "                       fill = True,\n",
        "                       fill_color = 'blue').add_to(pakistan_map)\n",
        "    abc = '<strong>City:  ' + city + '</strong> <br>' + 'Total Cases: ' + str(tc) + '<br>'+ 'Recoveries: ' + str(re) + '<br>'+ 'Deaths: '+ str(de)\n",
        "    iframe = folium.IFrame(abc, width=200, height=80)\n",
        "    popupData = folium.Popup(iframe, max_width=300)\n",
        "    folium.Marker(location = [lat,lon], popup=popupData).add_to(pakistan_map)\n",
        "    \n",
        "\n",
        "pakistan_map"
      ]
    }
  ],
  "metadata": {
    "colab": {
      "collapsed_sections": [],
      "provenance": []
    },
    "kernelspec": {
      "display_name": "Python 3.10.6 64-bit",
      "language": "python",
      "name": "python3"
    },
    "language_info": {
      "name": "python",
      "version": "3.10.6"
    },
    "vscode": {
      "interpreter": {
        "hash": "31f2aee4e71d21fbe5cf8b01ff0e069b9275f58929596ceb00d14d90e3e16cd6"
      }
    }
  },
  "nbformat": 4,
  "nbformat_minor": 0
}
