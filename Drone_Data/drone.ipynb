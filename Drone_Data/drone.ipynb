{
  "cells": [
    {
      "cell_type": "code",
      "execution_count": null,
      "metadata": {
        "colab": {
          "base_uri": "https://localhost:8080/"
        },
        "id": "Mk8WYl2nt0dA",
        "outputId": "5ffc7843-eacc-4005-b46c-dc55943557ca"
      },
      "outputs": [],
      "source": [
        "!pip install geopandas"
      ]
    },
    {
      "cell_type": "code",
      "execution_count": null,
      "metadata": {
        "colab": {
          "base_uri": "https://localhost:8080/"
        },
        "id": "PpVg_ENkt3Af",
        "outputId": "5be50c96-8077-4062-b51f-68c47f071edd"
      },
      "outputs": [],
      "source": [
        "!pip install mapclassify"
      ]
    },
    {
      "cell_type": "code",
      "execution_count": null,
      "metadata": {
        "id": "WBpKQfwbt9ia"
      },
      "outputs": [],
      "source": [
        "import geopandas as gpd\n",
        "import pandas as pd"
      ]
    },
    {
      "cell_type": "code",
      "execution_count": null,
      "metadata": {
        "colab": {
          "base_uri": "https://localhost:8080/"
        },
        "id": "AZLiF-w8upy8",
        "outputId": "5ba54140-facb-42ad-b134-e53f069ddc59"
      },
      "outputs": [],
      "source": [
        "from google.colab import drive\n",
        "drive.mount('/content/drive')"
      ]
    },
    {
      "cell_type": "code",
      "execution_count": null,
      "metadata": {
        "colab": {
          "base_uri": "https://localhost:8080/",
          "height": 424
        },
        "id": "3AnMf71kuUNx",
        "outputId": "fbf07c6e-5941-40d2-96ab-6fccf3fc42b6"
      },
      "outputs": [],
      "source": [
        "\n",
        "df = pd.read_csv('/content/drive/MyDrive/files/drone_data.csv')\n",
        "df"
      ]
    },
    {
      "cell_type": "code",
      "execution_count": null,
      "metadata": {
        "id": "ZP6Kh0UXuXeJ"
      },
      "outputs": [],
      "source": [
        "world = gpd.read_file(gpd.datasets.get_path(\"naturalearth_lowres\"))"
      ]
    },
    {
      "cell_type": "code",
      "execution_count": null,
      "metadata": {
        "colab": {
          "base_uri": "https://localhost:8080/",
          "height": 282
        },
        "id": "uXCuZO6Eu4Kd",
        "outputId": "75c3d53d-f72c-474b-e0af-082c88e99e3a"
      },
      "outputs": [],
      "source": [
        "dronesmap = gpd.GeoDataFrame(df, geometry=gpd.points_from_xy(x=df.Longitude, y=df.Latitude))\n",
        "dronesmap.plot()"
      ]
    },
    {
      "cell_type": "code",
      "execution_count": null,
      "metadata": {
        "colab": {
          "base_uri": "https://localhost:8080/",
          "height": 763
        },
        "id": "WN2O_9RKu6ho",
        "outputId": "17bb116f-84e2-4380-8628-bdcd85e7adaa"
      },
      "outputs": [],
      "source": [
        "displaymap = dronesmap.set_crs(epsg=4326)\n",
        "displaymap.crs\n",
        "displaymap.explore()"
      ]
    }
  ],
  "metadata": {
    "colab": {
      "collapsed_sections": [],
      "provenance": []
    },
    "kernelspec": {
      "display_name": "Python 3",
      "name": "python3"
    },
    "language_info": {
      "name": "python"
    }
  },
  "nbformat": 4,
  "nbformat_minor": 0
}
