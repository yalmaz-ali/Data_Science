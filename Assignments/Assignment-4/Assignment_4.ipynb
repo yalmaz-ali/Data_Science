{
  "nbformat": 4,
  "nbformat_minor": 0,
  "metadata": {
    "colab": {
      "provenance": []
    },
    "kernelspec": {
      "name": "python3",
      "display_name": "Python 3"
    },
    "language_info": {
      "name": "python"
    }
  },
  "cells": [
    {
      "cell_type": "code",
      "source": [
        "import warnings\n",
        "warnings.filterwarnings('ignore')\n",
        "\n",
        "import pandas as pd\n",
        "import numpy as np\n",
        "\n",
        "from sklearn.ensemble import RandomForestClassifier\n",
        "from sklearn.svm import SVC\n",
        "from sklearn.neural_network import MLPClassifier\n",
        "from sklearn.tree import DecisionTreeClassifier\n",
        "from sklearn.ensemble import ExtraTreesClassifier\n",
        "\n",
        "from sklearn.metrics import classification_report\n",
        "from sklearn.metrics import roc_curve\n",
        "from sklearn.metrics import confusion_matrix, accuracy_score\n",
        "from sklearn.metrics import classification_report\n",
        "from sklearn.metrics import f1_score\n",
        "from sklearn.metrics import precision_score\n",
        "from sklearn.metrics import recall_score\n",
        "\n",
        "from sklearn.model_selection import train_test_split,ShuffleSplit,cross_val_score,cross_validate,cross_val_predict,LeavePOut\n",
        "from sklearn.preprocessing import LabelEncoder\n",
        "\n",
        "import time\n",
        "\n",
        "import sklearn.metrics as skm\n",
        "import matplotlib.pyplot as plt"
      ],
      "metadata": {
        "id": "znt75Bzui5M_"
      },
      "execution_count": 212,
      "outputs": []
    },
    {
      "cell_type": "code",
      "execution_count": 213,
      "metadata": {
        "colab": {
          "base_uri": "https://localhost:8080/"
        },
        "id": "WvZaoRXnhy8X",
        "outputId": "13e31a13-7e5f-4f35-ff42-9892989810c4"
      },
      "outputs": [
        {
          "output_type": "stream",
          "name": "stdout",
          "text": [
            "Drive already mounted at /content/drive; to attempt to forcibly remount, call drive.mount(\"/content/drive\", force_remount=True).\n"
          ]
        }
      ],
      "source": [
        "from google.colab import drive\n",
        "drive.mount('/content/drive')"
      ]
    },
    {
      "cell_type": "code",
      "source": [
        "df = pd.read_csv('/content/drive/MyDrive/IDS/gender-prediction.csv')\n",
        "df"
      ],
      "metadata": {
        "colab": {
          "base_uri": "https://localhost:8080/",
          "height": 423
        },
        "id": "-whh5mrXi2MG",
        "outputId": "f90bbb2c-7a40-46b2-ee88-b50b0461a5b1"
      },
      "execution_count": 214,
      "outputs": [
        {
          "output_type": "execute_result",
          "data": {
            "text/plain": [
              "    height  weight beard hair_length  shoe_size scarf eye_color  gender\n",
              "0       71     176   yes       short         44    no     black    male\n",
              "1       68     165    no        bald         41    no     black    male\n",
              "2       62     132    no      medium         37   yes      blue  female\n",
              "3       65     138    no        long         38    no      gray  female\n",
              "4       70     197   yes      medium         43    no      gray    male\n",
              "..     ...     ...   ...         ...        ...   ...       ...     ...\n",
              "75      65      99    no       short         39   yes     green  female\n",
              "76      61      98    no       short         37    no     brown  female\n",
              "77      67     119   yes       short         40    no     black    male\n",
              "78      70     190   yes      medium         43    no      gray    male\n",
              "79      62     142   yes        long         37    no      blue  female\n",
              "\n",
              "[80 rows x 8 columns]"
            ],
            "text/html": [
              "\n",
              "  <div id=\"df-bb72032c-4bc3-44b1-94b4-fe03fb547e45\">\n",
              "    <div class=\"colab-df-container\">\n",
              "      <div>\n",
              "<style scoped>\n",
              "    .dataframe tbody tr th:only-of-type {\n",
              "        vertical-align: middle;\n",
              "    }\n",
              "\n",
              "    .dataframe tbody tr th {\n",
              "        vertical-align: top;\n",
              "    }\n",
              "\n",
              "    .dataframe thead th {\n",
              "        text-align: right;\n",
              "    }\n",
              "</style>\n",
              "<table border=\"1\" class=\"dataframe\">\n",
              "  <thead>\n",
              "    <tr style=\"text-align: right;\">\n",
              "      <th></th>\n",
              "      <th>height</th>\n",
              "      <th>weight</th>\n",
              "      <th>beard</th>\n",
              "      <th>hair_length</th>\n",
              "      <th>shoe_size</th>\n",
              "      <th>scarf</th>\n",
              "      <th>eye_color</th>\n",
              "      <th>gender</th>\n",
              "    </tr>\n",
              "  </thead>\n",
              "  <tbody>\n",
              "    <tr>\n",
              "      <th>0</th>\n",
              "      <td>71</td>\n",
              "      <td>176</td>\n",
              "      <td>yes</td>\n",
              "      <td>short</td>\n",
              "      <td>44</td>\n",
              "      <td>no</td>\n",
              "      <td>black</td>\n",
              "      <td>male</td>\n",
              "    </tr>\n",
              "    <tr>\n",
              "      <th>1</th>\n",
              "      <td>68</td>\n",
              "      <td>165</td>\n",
              "      <td>no</td>\n",
              "      <td>bald</td>\n",
              "      <td>41</td>\n",
              "      <td>no</td>\n",
              "      <td>black</td>\n",
              "      <td>male</td>\n",
              "    </tr>\n",
              "    <tr>\n",
              "      <th>2</th>\n",
              "      <td>62</td>\n",
              "      <td>132</td>\n",
              "      <td>no</td>\n",
              "      <td>medium</td>\n",
              "      <td>37</td>\n",
              "      <td>yes</td>\n",
              "      <td>blue</td>\n",
              "      <td>female</td>\n",
              "    </tr>\n",
              "    <tr>\n",
              "      <th>3</th>\n",
              "      <td>65</td>\n",
              "      <td>138</td>\n",
              "      <td>no</td>\n",
              "      <td>long</td>\n",
              "      <td>38</td>\n",
              "      <td>no</td>\n",
              "      <td>gray</td>\n",
              "      <td>female</td>\n",
              "    </tr>\n",
              "    <tr>\n",
              "      <th>4</th>\n",
              "      <td>70</td>\n",
              "      <td>197</td>\n",
              "      <td>yes</td>\n",
              "      <td>medium</td>\n",
              "      <td>43</td>\n",
              "      <td>no</td>\n",
              "      <td>gray</td>\n",
              "      <td>male</td>\n",
              "    </tr>\n",
              "    <tr>\n",
              "      <th>...</th>\n",
              "      <td>...</td>\n",
              "      <td>...</td>\n",
              "      <td>...</td>\n",
              "      <td>...</td>\n",
              "      <td>...</td>\n",
              "      <td>...</td>\n",
              "      <td>...</td>\n",
              "      <td>...</td>\n",
              "    </tr>\n",
              "    <tr>\n",
              "      <th>75</th>\n",
              "      <td>65</td>\n",
              "      <td>99</td>\n",
              "      <td>no</td>\n",
              "      <td>short</td>\n",
              "      <td>39</td>\n",
              "      <td>yes</td>\n",
              "      <td>green</td>\n",
              "      <td>female</td>\n",
              "    </tr>\n",
              "    <tr>\n",
              "      <th>76</th>\n",
              "      <td>61</td>\n",
              "      <td>98</td>\n",
              "      <td>no</td>\n",
              "      <td>short</td>\n",
              "      <td>37</td>\n",
              "      <td>no</td>\n",
              "      <td>brown</td>\n",
              "      <td>female</td>\n",
              "    </tr>\n",
              "    <tr>\n",
              "      <th>77</th>\n",
              "      <td>67</td>\n",
              "      <td>119</td>\n",
              "      <td>yes</td>\n",
              "      <td>short</td>\n",
              "      <td>40</td>\n",
              "      <td>no</td>\n",
              "      <td>black</td>\n",
              "      <td>male</td>\n",
              "    </tr>\n",
              "    <tr>\n",
              "      <th>78</th>\n",
              "      <td>70</td>\n",
              "      <td>190</td>\n",
              "      <td>yes</td>\n",
              "      <td>medium</td>\n",
              "      <td>43</td>\n",
              "      <td>no</td>\n",
              "      <td>gray</td>\n",
              "      <td>male</td>\n",
              "    </tr>\n",
              "    <tr>\n",
              "      <th>79</th>\n",
              "      <td>62</td>\n",
              "      <td>142</td>\n",
              "      <td>yes</td>\n",
              "      <td>long</td>\n",
              "      <td>37</td>\n",
              "      <td>no</td>\n",
              "      <td>blue</td>\n",
              "      <td>female</td>\n",
              "    </tr>\n",
              "  </tbody>\n",
              "</table>\n",
              "<p>80 rows × 8 columns</p>\n",
              "</div>\n",
              "      <button class=\"colab-df-convert\" onclick=\"convertToInteractive('df-bb72032c-4bc3-44b1-94b4-fe03fb547e45')\"\n",
              "              title=\"Convert this dataframe to an interactive table.\"\n",
              "              style=\"display:none;\">\n",
              "        \n",
              "  <svg xmlns=\"http://www.w3.org/2000/svg\" height=\"24px\"viewBox=\"0 0 24 24\"\n",
              "       width=\"24px\">\n",
              "    <path d=\"M0 0h24v24H0V0z\" fill=\"none\"/>\n",
              "    <path d=\"M18.56 5.44l.94 2.06.94-2.06 2.06-.94-2.06-.94-.94-2.06-.94 2.06-2.06.94zm-11 1L8.5 8.5l.94-2.06 2.06-.94-2.06-.94L8.5 2.5l-.94 2.06-2.06.94zm10 10l.94 2.06.94-2.06 2.06-.94-2.06-.94-.94-2.06-.94 2.06-2.06.94z\"/><path d=\"M17.41 7.96l-1.37-1.37c-.4-.4-.92-.59-1.43-.59-.52 0-1.04.2-1.43.59L10.3 9.45l-7.72 7.72c-.78.78-.78 2.05 0 2.83L4 21.41c.39.39.9.59 1.41.59.51 0 1.02-.2 1.41-.59l7.78-7.78 2.81-2.81c.8-.78.8-2.07 0-2.86zM5.41 20L4 18.59l7.72-7.72 1.47 1.35L5.41 20z\"/>\n",
              "  </svg>\n",
              "      </button>\n",
              "      \n",
              "  <style>\n",
              "    .colab-df-container {\n",
              "      display:flex;\n",
              "      flex-wrap:wrap;\n",
              "      gap: 12px;\n",
              "    }\n",
              "\n",
              "    .colab-df-convert {\n",
              "      background-color: #E8F0FE;\n",
              "      border: none;\n",
              "      border-radius: 50%;\n",
              "      cursor: pointer;\n",
              "      display: none;\n",
              "      fill: #1967D2;\n",
              "      height: 32px;\n",
              "      padding: 0 0 0 0;\n",
              "      width: 32px;\n",
              "    }\n",
              "\n",
              "    .colab-df-convert:hover {\n",
              "      background-color: #E2EBFA;\n",
              "      box-shadow: 0px 1px 2px rgba(60, 64, 67, 0.3), 0px 1px 3px 1px rgba(60, 64, 67, 0.15);\n",
              "      fill: #174EA6;\n",
              "    }\n",
              "\n",
              "    [theme=dark] .colab-df-convert {\n",
              "      background-color: #3B4455;\n",
              "      fill: #D2E3FC;\n",
              "    }\n",
              "\n",
              "    [theme=dark] .colab-df-convert:hover {\n",
              "      background-color: #434B5C;\n",
              "      box-shadow: 0px 1px 3px 1px rgba(0, 0, 0, 0.15);\n",
              "      filter: drop-shadow(0px 1px 2px rgba(0, 0, 0, 0.3));\n",
              "      fill: #FFFFFF;\n",
              "    }\n",
              "  </style>\n",
              "\n",
              "      <script>\n",
              "        const buttonEl =\n",
              "          document.querySelector('#df-bb72032c-4bc3-44b1-94b4-fe03fb547e45 button.colab-df-convert');\n",
              "        buttonEl.style.display =\n",
              "          google.colab.kernel.accessAllowed ? 'block' : 'none';\n",
              "\n",
              "        async function convertToInteractive(key) {\n",
              "          const element = document.querySelector('#df-bb72032c-4bc3-44b1-94b4-fe03fb547e45');\n",
              "          const dataTable =\n",
              "            await google.colab.kernel.invokeFunction('convertToInteractive',\n",
              "                                                     [key], {});\n",
              "          if (!dataTable) return;\n",
              "\n",
              "          const docLinkHtml = 'Like what you see? Visit the ' +\n",
              "            '<a target=\"_blank\" href=https://colab.research.google.com/notebooks/data_table.ipynb>data table notebook</a>'\n",
              "            + ' to learn more about interactive tables.';\n",
              "          element.innerHTML = '';\n",
              "          dataTable['output_type'] = 'display_data';\n",
              "          await google.colab.output.renderOutput(dataTable, element);\n",
              "          const docLink = document.createElement('div');\n",
              "          docLink.innerHTML = docLinkHtml;\n",
              "          element.appendChild(docLink);\n",
              "        }\n",
              "      </script>\n",
              "    </div>\n",
              "  </div>\n",
              "  "
            ]
          },
          "metadata": {},
          "execution_count": 214
        }
      ]
    },
    {
      "cell_type": "markdown",
      "source": [
        "##Q1"
      ],
      "metadata": {
        "id": "elgjNFJo1Kx7"
      }
    },
    {
      "cell_type": "markdown",
      "source": [
        "###1"
      ],
      "metadata": {
        "id": "EkiABOn-obvi"
      }
    },
    {
      "cell_type": "code",
      "source": [
        "df.count()"
      ],
      "metadata": {
        "colab": {
          "base_uri": "https://localhost:8080/"
        },
        "id": "H9jNRDMYjiZV",
        "outputId": "a18d48ad-d19a-4446-91a4-517cbfe0f6b0"
      },
      "execution_count": 215,
      "outputs": [
        {
          "output_type": "execute_result",
          "data": {
            "text/plain": [
              "height         80\n",
              "weight         80\n",
              "beard          80\n",
              "hair_length    80\n",
              "shoe_size      80\n",
              "scarf          80\n",
              "eye_color      80\n",
              "gender         80\n",
              "dtype: int64"
            ]
          },
          "metadata": {},
          "execution_count": 215
        }
      ]
    },
    {
      "cell_type": "markdown",
      "source": [
        "###2"
      ],
      "metadata": {
        "id": "FFba0wfVok5I"
      }
    },
    {
      "cell_type": "code",
      "source": [
        "X = df.drop(['gender'],axis=1)\n",
        "X.dtypes"
      ],
      "metadata": {
        "colab": {
          "base_uri": "https://localhost:8080/"
        },
        "id": "yxcK08bakEM1",
        "outputId": "8ff95567-8ec6-4e98-9511-97ba2e946b12"
      },
      "execution_count": 216,
      "outputs": [
        {
          "output_type": "execute_result",
          "data": {
            "text/plain": [
              "height          int64\n",
              "weight          int64\n",
              "beard          object\n",
              "hair_length    object\n",
              "shoe_size       int64\n",
              "scarf          object\n",
              "eye_color      object\n",
              "dtype: object"
            ]
          },
          "metadata": {},
          "execution_count": 216
        }
      ]
    },
    {
      "cell_type": "markdown",
      "source": [
        "###3"
      ],
      "metadata": {
        "id": "WIaexEczomm0"
      }
    },
    {
      "cell_type": "code",
      "source": [
        "df['gender'].unique()"
      ],
      "metadata": {
        "colab": {
          "base_uri": "https://localhost:8080/"
        },
        "id": "GEAfDpVwl_ak",
        "outputId": "c4117720-5208-41f9-ac70-cf3ee2b9c8bf"
      },
      "execution_count": 217,
      "outputs": [
        {
          "output_type": "execute_result",
          "data": {
            "text/plain": [
              "array(['male', 'female'], dtype=object)"
            ]
          },
          "metadata": {},
          "execution_count": 217
        }
      ]
    },
    {
      "cell_type": "code",
      "source": [
        "le = LabelEncoder()\n",
        "y = le.fit_transform(df['gender'])\n",
        "df['gender']= y"
      ],
      "metadata": {
        "id": "eUxa5rGnENY0"
      },
      "execution_count": 218,
      "outputs": []
    },
    {
      "cell_type": "markdown",
      "source": [
        "###4"
      ],
      "metadata": {
        "id": "errYEGKnonii"
      }
    },
    {
      "cell_type": "code",
      "source": [
        "obj_df = X.select_dtypes(include=['object']).copy()\n",
        "for column in obj_df:\n",
        "  print(column, end=\":\\n\")\n",
        "  print(obj_df[column].unique())"
      ],
      "metadata": {
        "colab": {
          "base_uri": "https://localhost:8080/"
        },
        "id": "yrecgIVvmUXx",
        "outputId": "40c943ef-5977-46cf-91ef-56d1c1d8d64e"
      },
      "execution_count": 219,
      "outputs": [
        {
          "output_type": "stream",
          "name": "stdout",
          "text": [
            "beard:\n",
            "['yes' 'no']\n",
            "hair_length:\n",
            "['short' 'bald' 'medium' 'long']\n",
            "scarf:\n",
            "['no' 'yes']\n",
            "eye_color:\n",
            "['black' 'blue' 'gray' 'brown' 'green']\n"
          ]
        }
      ]
    },
    {
      "cell_type": "markdown",
      "source": [
        "###5"
      ],
      "metadata": {
        "id": "HG6Bs_GnoqWe"
      }
    },
    {
      "cell_type": "code",
      "source": [
        "res = df.pivot_table(columns='gender', aggfunc='size', fill_value=0)\n",
        "\n",
        "sums = res[[0, 1]].sum()\n",
        "res['FemaleRatio'] = (\"%.2f\" %((res[0] / sums)*100))\n",
        "res['MaleRatio'] = (\"%.2f\" %((res[1] / sums)*100))\n",
        "\n",
        "ratioDf= pd.DataFrame(data= res,columns=['values'])\n",
        "ratioDf"
      ],
      "metadata": {
        "id": "yKm6y9lwosAM",
        "colab": {
          "base_uri": "https://localhost:8080/",
          "height": 206
        },
        "outputId": "982d9f16-6774-424c-c540-d23f707b637c"
      },
      "execution_count": 220,
      "outputs": [
        {
          "output_type": "execute_result",
          "data": {
            "text/plain": [
              "            values\n",
              "gender            \n",
              "0               34\n",
              "1               46\n",
              "FemaleRatio  42.50\n",
              "MaleRatio    57.50"
            ],
            "text/html": [
              "\n",
              "  <div id=\"df-a0633658-718a-4a4b-a66a-bef82ec544c1\">\n",
              "    <div class=\"colab-df-container\">\n",
              "      <div>\n",
              "<style scoped>\n",
              "    .dataframe tbody tr th:only-of-type {\n",
              "        vertical-align: middle;\n",
              "    }\n",
              "\n",
              "    .dataframe tbody tr th {\n",
              "        vertical-align: top;\n",
              "    }\n",
              "\n",
              "    .dataframe thead th {\n",
              "        text-align: right;\n",
              "    }\n",
              "</style>\n",
              "<table border=\"1\" class=\"dataframe\">\n",
              "  <thead>\n",
              "    <tr style=\"text-align: right;\">\n",
              "      <th></th>\n",
              "      <th>values</th>\n",
              "    </tr>\n",
              "    <tr>\n",
              "      <th>gender</th>\n",
              "      <th></th>\n",
              "    </tr>\n",
              "  </thead>\n",
              "  <tbody>\n",
              "    <tr>\n",
              "      <th>0</th>\n",
              "      <td>34</td>\n",
              "    </tr>\n",
              "    <tr>\n",
              "      <th>1</th>\n",
              "      <td>46</td>\n",
              "    </tr>\n",
              "    <tr>\n",
              "      <th>FemaleRatio</th>\n",
              "      <td>42.50</td>\n",
              "    </tr>\n",
              "    <tr>\n",
              "      <th>MaleRatio</th>\n",
              "      <td>57.50</td>\n",
              "    </tr>\n",
              "  </tbody>\n",
              "</table>\n",
              "</div>\n",
              "      <button class=\"colab-df-convert\" onclick=\"convertToInteractive('df-a0633658-718a-4a4b-a66a-bef82ec544c1')\"\n",
              "              title=\"Convert this dataframe to an interactive table.\"\n",
              "              style=\"display:none;\">\n",
              "        \n",
              "  <svg xmlns=\"http://www.w3.org/2000/svg\" height=\"24px\"viewBox=\"0 0 24 24\"\n",
              "       width=\"24px\">\n",
              "    <path d=\"M0 0h24v24H0V0z\" fill=\"none\"/>\n",
              "    <path d=\"M18.56 5.44l.94 2.06.94-2.06 2.06-.94-2.06-.94-.94-2.06-.94 2.06-2.06.94zm-11 1L8.5 8.5l.94-2.06 2.06-.94-2.06-.94L8.5 2.5l-.94 2.06-2.06.94zm10 10l.94 2.06.94-2.06 2.06-.94-2.06-.94-.94-2.06-.94 2.06-2.06.94z\"/><path d=\"M17.41 7.96l-1.37-1.37c-.4-.4-.92-.59-1.43-.59-.52 0-1.04.2-1.43.59L10.3 9.45l-7.72 7.72c-.78.78-.78 2.05 0 2.83L4 21.41c.39.39.9.59 1.41.59.51 0 1.02-.2 1.41-.59l7.78-7.78 2.81-2.81c.8-.78.8-2.07 0-2.86zM5.41 20L4 18.59l7.72-7.72 1.47 1.35L5.41 20z\"/>\n",
              "  </svg>\n",
              "      </button>\n",
              "      \n",
              "  <style>\n",
              "    .colab-df-container {\n",
              "      display:flex;\n",
              "      flex-wrap:wrap;\n",
              "      gap: 12px;\n",
              "    }\n",
              "\n",
              "    .colab-df-convert {\n",
              "      background-color: #E8F0FE;\n",
              "      border: none;\n",
              "      border-radius: 50%;\n",
              "      cursor: pointer;\n",
              "      display: none;\n",
              "      fill: #1967D2;\n",
              "      height: 32px;\n",
              "      padding: 0 0 0 0;\n",
              "      width: 32px;\n",
              "    }\n",
              "\n",
              "    .colab-df-convert:hover {\n",
              "      background-color: #E2EBFA;\n",
              "      box-shadow: 0px 1px 2px rgba(60, 64, 67, 0.3), 0px 1px 3px 1px rgba(60, 64, 67, 0.15);\n",
              "      fill: #174EA6;\n",
              "    }\n",
              "\n",
              "    [theme=dark] .colab-df-convert {\n",
              "      background-color: #3B4455;\n",
              "      fill: #D2E3FC;\n",
              "    }\n",
              "\n",
              "    [theme=dark] .colab-df-convert:hover {\n",
              "      background-color: #434B5C;\n",
              "      box-shadow: 0px 1px 3px 1px rgba(0, 0, 0, 0.15);\n",
              "      filter: drop-shadow(0px 1px 2px rgba(0, 0, 0, 0.3));\n",
              "      fill: #FFFFFF;\n",
              "    }\n",
              "  </style>\n",
              "\n",
              "      <script>\n",
              "        const buttonEl =\n",
              "          document.querySelector('#df-a0633658-718a-4a4b-a66a-bef82ec544c1 button.colab-df-convert');\n",
              "        buttonEl.style.display =\n",
              "          google.colab.kernel.accessAllowed ? 'block' : 'none';\n",
              "\n",
              "        async function convertToInteractive(key) {\n",
              "          const element = document.querySelector('#df-a0633658-718a-4a4b-a66a-bef82ec544c1');\n",
              "          const dataTable =\n",
              "            await google.colab.kernel.invokeFunction('convertToInteractive',\n",
              "                                                     [key], {});\n",
              "          if (!dataTable) return;\n",
              "\n",
              "          const docLinkHtml = 'Like what you see? Visit the ' +\n",
              "            '<a target=\"_blank\" href=https://colab.research.google.com/notebooks/data_table.ipynb>data table notebook</a>'\n",
              "            + ' to learn more about interactive tables.';\n",
              "          element.innerHTML = '';\n",
              "          dataTable['output_type'] = 'display_data';\n",
              "          await google.colab.output.renderOutput(dataTable, element);\n",
              "          const docLink = document.createElement('div');\n",
              "          docLink.innerHTML = docLinkHtml;\n",
              "          element.appendChild(docLink);\n",
              "        }\n",
              "      </script>\n",
              "    </div>\n",
              "  </div>\n",
              "  "
            ]
          },
          "metadata": {},
          "execution_count": 220
        }
      ]
    },
    {
      "cell_type": "markdown",
      "source": [
        "####encode"
      ],
      "metadata": {
        "id": "_1OFsBJ2CIJX"
      }
    },
    {
      "cell_type": "code",
      "source": [
        "encode={'beard':{'yes':0,'no':1},\n",
        "        'hair_length':{'short':0,'bald':1,'medium':2,'long':3},\n",
        "        'scarf':{'no':0,'yes':1},\n",
        "        'eye_color':{'black':0,'blue':1,'gray':2,'brown':3,'green':4}\n",
        "        }\n",
        "X = X.replace(encode)\n",
        "X.dtypes"
      ],
      "metadata": {
        "id": "nRBh7ZAQ6LFE",
        "colab": {
          "base_uri": "https://localhost:8080/"
        },
        "outputId": "fa87be1e-757b-49c5-fc48-c576ffa594a6"
      },
      "execution_count": 221,
      "outputs": [
        {
          "output_type": "execute_result",
          "data": {
            "text/plain": [
              "height         int64\n",
              "weight         int64\n",
              "beard          int64\n",
              "hair_length    int64\n",
              "shoe_size      int64\n",
              "scarf          int64\n",
              "eye_color      int64\n",
              "dtype: object"
            ]
          },
          "metadata": {},
          "execution_count": 221
        }
      ]
    },
    {
      "cell_type": "markdown",
      "source": [
        "##Q2 Apply Random Forest, Support Vector Machines, and Multilayer Perceptron classification algorithms"
      ],
      "metadata": {
        "id": "ae55cB8y1ScN"
      }
    },
    {
      "cell_type": "code",
      "source": [
        "option=1\n",
        "if option==1:\n",
        "  size=0.33\n",
        "elif option==2:\n",
        "  size=0.20\n",
        "X_train, X_test, y_train, y_test = train_test_split(X, y, test_size=size, random_state=12)#(train->53,test->27) or (train->64,test->16)"
      ],
      "metadata": {
        "id": "quuVrlNuCb3-"
      },
      "execution_count": 222,
      "outputs": []
    },
    {
      "cell_type": "code",
      "source": [
        "rfc = RandomForestClassifier()\n",
        "rfc.fit(X_train, y_train)\n",
        "y_pred_rfc  =  rfc.predict(X_test)\n",
        "\n",
        "(accuracy_score(y_test,y_pred_rfc))*100"
      ],
      "metadata": {
        "colab": {
          "base_uri": "https://localhost:8080/"
        },
        "id": "aagxqRSG1SGI",
        "outputId": "c45ed64d-4d93-4aa7-e73e-637009a789fa"
      },
      "execution_count": 223,
      "outputs": [
        {
          "output_type": "execute_result",
          "data": {
            "text/plain": [
              "100.0"
            ]
          },
          "metadata": {},
          "execution_count": 223
        }
      ]
    },
    {
      "cell_type": "code",
      "source": [
        "svc = SVC(kernel = 'linear')\n",
        "svc.fit(X_train, y_train)\n",
        "y_pred_svc = svc.predict(X_test)\n",
        "\n",
        "(accuracy_score(y_test,y_pred_svc))*100"
      ],
      "metadata": {
        "colab": {
          "base_uri": "https://localhost:8080/"
        },
        "id": "trN1XandCOSy",
        "outputId": "9a140dc3-8ff5-4d95-e9f0-6d99be8d8421"
      },
      "execution_count": 224,
      "outputs": [
        {
          "output_type": "execute_result",
          "data": {
            "text/plain": [
              "100.0"
            ]
          },
          "metadata": {},
          "execution_count": 224
        }
      ]
    },
    {
      "cell_type": "code",
      "source": [
        "mpl = MLPClassifier(solver='lbfgs',\n",
        "                    random_state=5,\n",
        "                    learning_rate_init=0.01)\n",
        "mpl.fit(X_train,y_train)\n",
        "y_pred_mpl = mpl.predict(X_test)\n",
        "\n",
        "(accuracy_score(y_test,y_pred_mpl))*100"
      ],
      "metadata": {
        "colab": {
          "base_uri": "https://localhost:8080/"
        },
        "id": "qcr1W-ttFb2_",
        "outputId": "c7e6e59c-34e7-4b11-a7a1-c796c900808d"
      },
      "execution_count": 225,
      "outputs": [
        {
          "output_type": "execute_result",
          "data": {
            "text/plain": [
              "85.18518518518519"
            ]
          },
          "metadata": {},
          "execution_count": 225
        }
      ]
    },
    {
      "cell_type": "markdown",
      "source": [
        "###1 or 2"
      ],
      "metadata": {
        "id": "6dVe33sWHiin"
      }
    },
    {
      "cell_type": "code",
      "source": [
        "confusion_matrix = skm.confusion_matrix(y_test,y_pred_rfc)\n",
        "cm_display = skm.ConfusionMatrixDisplay(confusion_matrix = confusion_matrix, display_labels = [False, True])\n",
        "cm_display.plot()\n",
        "plt.show()"
      ],
      "metadata": {
        "colab": {
          "base_uri": "https://localhost:8080/",
          "height": 279
        },
        "id": "ZHMQA4lNHeqg",
        "outputId": "a358a1e4-0821-47e3-80d5-7c35f24afbbc"
      },
      "execution_count": 226,
      "outputs": [
        {
          "output_type": "display_data",
          "data": {
            "text/plain": [
              "<Figure size 432x288 with 2 Axes>"
            ],
            "image/png": "[encoded data removed]"
          },
          "metadata": {
            "needs_background": "light"
          }
        }
      ]
    },
    {
      "cell_type": "code",
      "source": [
        "confusion_matrix = skm.confusion_matrix(y_test,y_pred_svc)\n",
        "cm_display = skm.ConfusionMatrixDisplay(confusion_matrix = confusion_matrix, display_labels = [False, True])\n",
        "cm_display.plot()\n",
        "plt.show()"
      ],
      "metadata": {
        "colab": {
          "base_uri": "https://localhost:8080/",
          "height": 279
        },
        "id": "onuSPfq1Hegz",
        "outputId": "57c0206d-92b2-4ece-a312-3144bd05f74e"
      },
      "execution_count": 227,
      "outputs": [
        {
          "output_type": "display_data",
          "data": {
            "text/plain": [
              "<Figure size 432x288 with 2 Axes>"
            ],
            "image/png": "[encoded data removed]"
          },
          "metadata": {
            "needs_background": "light"
          }
        }
      ]
    },
    {
      "cell_type": "code",
      "source": [
        "confusion_matrix = skm.confusion_matrix(y_test,y_pred_mpl)\n",
        "cm_display = skm.ConfusionMatrixDisplay(confusion_matrix = confusion_matrix, display_labels = [False, True])\n",
        "cm_display.plot()\n",
        "plt.show()"
      ],
      "metadata": {
        "colab": {
          "base_uri": "https://localhost:8080/",
          "height": 279
        },
        "id": "14rnC_auBgfX",
        "outputId": "d44accc4-9fe0-4061-c8a8-201f2dc9df6d"
      },
      "execution_count": 228,
      "outputs": [
        {
          "output_type": "display_data",
          "data": {
            "text/plain": [
              "<Figure size 432x288 with 2 Axes>"
            ],
            "image/png": "[encoded data removed]"
          },
          "metadata": {
            "needs_background": "light"
          }
        }
      ]
    },
    {
      "cell_type": "markdown",
      "source": [
        "###3"
      ],
      "metadata": {
        "id": "ZrNLYjLNjssP"
      }
    },
    {
      "cell_type": "code",
      "source": [
        "model = RandomForestClassifier()\n",
        "model.fit(X,y)\n",
        "feat_importances = pd.Series(model.feature_importances_, index=X.columns)\n",
        "feat_importances.nlargest(7).plot(kind='barh')\n",
        "plt.show()"
      ],
      "metadata": {
        "colab": {
          "base_uri": "https://localhost:8080/",
          "height": 300
        },
        "id": "mw8Wq39Lb7_L",
        "outputId": "c7660db4-4475-4973-d78c-75c5c206d0fc"
      },
      "execution_count": 229,
      "outputs": [
        {
          "output_type": "stream",
          "name": "stdout",
          "text": [
            "[0.17517866 0.11856736 0.16924757 0.02988325 0.40248612 0.08926116\n",
            " 0.01537588]\n"
          ]
        },
        {
          "output_type": "display_data",
          "data": {
            "text/plain": [
              "<Figure size 432x288 with 1 Axes>"
            ],
            "image/png": "[encoded data removed]"
          },
          "metadata": {
            "needs_background": "light"
          }
        }
      ]
    },
    {
      "cell_type": "markdown",
      "source": [
        "###4"
      ],
      "metadata": {
        "id": "5VBS0WHpj7Eh"
      }
    },
    {
      "cell_type": "code",
      "source": [
        "X = df.drop(['gender','beard','shoe_size'],axis=1)\n",
        "\n",
        "encode={'hair_length':{'short':0,'bald':1,'medium':2,'long':3},\n",
        "        'scarf':{'no':0,'yes':1},\n",
        "        'eye_color':{'black':0,'blue':1,'gray':2,'brown':3,'green':4}\n",
        "        }\n",
        "X = X.replace(encode)\n",
        "X.dtypes"
      ],
      "metadata": {
        "colab": {
          "base_uri": "https://localhost:8080/"
        },
        "id": "7xs4RaTUkK7d",
        "outputId": "800bdd23-9963-4556-9319-e7c6deefb805"
      },
      "execution_count": 230,
      "outputs": [
        {
          "output_type": "execute_result",
          "data": {
            "text/plain": [
              "height         int64\n",
              "weight         int64\n",
              "hair_length    int64\n",
              "scarf          int64\n",
              "eye_color      int64\n",
              "dtype: object"
            ]
          },
          "metadata": {},
          "execution_count": 230
        }
      ]
    },
    {
      "cell_type": "code",
      "source": [
        "X_train, X_test, y_train, y_test = train_test_split(X, y, test_size=0.22, random_state=12) #(train->64,test->16)"
      ],
      "metadata": {
        "id": "ym-X5iu5kov9"
      },
      "execution_count": 231,
      "outputs": []
    },
    {
      "cell_type": "code",
      "source": [
        "rfc = RandomForestClassifier()\n",
        "rfc.fit(X_train, y_train)\n",
        "y_pred_rfc  =  rfc.predict(X_test)\n",
        "\n",
        "(accuracy_score(y_test,y_pred_rfc))*100"
      ],
      "metadata": {
        "colab": {
          "base_uri": "https://localhost:8080/"
        },
        "outputId": "28fb15dc-1b2f-4b60-fc42-1a8bf7552fd4",
        "id": "pXrBOA9akK7e"
      },
      "execution_count": 232,
      "outputs": [
        {
          "output_type": "execute_result",
          "data": {
            "text/plain": [
              "94.44444444444444"
            ]
          },
          "metadata": {},
          "execution_count": 232
        }
      ]
    },
    {
      "cell_type": "code",
      "source": [
        "svc = SVC(kernel = 'linear')\n",
        "svc.fit(X_train, y_train)\n",
        "y_pred_svc = svc.predict(X_test)\n",
        "\n",
        "(accuracy_score(y_test,y_pred_svc))*100"
      ],
      "metadata": {
        "colab": {
          "base_uri": "https://localhost:8080/"
        },
        "outputId": "72b79da1-674f-4b21-a3e4-6d7e4e58ea8a",
        "id": "zO4Yl_XzkK7e"
      },
      "execution_count": 233,
      "outputs": [
        {
          "output_type": "execute_result",
          "data": {
            "text/plain": [
              "77.77777777777779"
            ]
          },
          "metadata": {},
          "execution_count": 233
        }
      ]
    },
    {
      "cell_type": "code",
      "source": [
        "mpl = MLPClassifier(solver='lbfgs',\n",
        "                    random_state=5,\n",
        "                    learning_rate_init=0.01)\n",
        "mpl.fit(X_train,y_train)\n",
        "y_pred_mpl = mpl.predict(X_test)\n",
        "\n",
        "(accuracy_score(y_test,y_pred_mpl))*100"
      ],
      "metadata": {
        "colab": {
          "base_uri": "https://localhost:8080/"
        },
        "outputId": "16c7caf6-2a11-429e-b52e-d247196b060c",
        "id": "Bm46AlcikK7f"
      },
      "execution_count": 234,
      "outputs": [
        {
          "output_type": "execute_result",
          "data": {
            "text/plain": [
              "77.77777777777779"
            ]
          },
          "metadata": {},
          "execution_count": 234
        }
      ]
    },
    {
      "cell_type": "code",
      "source": [
        "confusion_matrix = skm.confusion_matrix(y_test,y_pred_rfc)\n",
        "cm_display = skm.ConfusionMatrixDisplay(confusion_matrix = confusion_matrix, display_labels = [False, True])\n",
        "cm_display.plot()\n",
        "plt.show()"
      ],
      "metadata": {
        "colab": {
          "base_uri": "https://localhost:8080/",
          "height": 279
        },
        "outputId": "3f35ed57-34bc-4c9f-d97b-677d3b6625b8",
        "id": "WuHaYaunkK7f"
      },
      "execution_count": 235,
      "outputs": [
        {
          "output_type": "display_data",
          "data": {
            "text/plain": [
              "<Figure size 432x288 with 2 Axes>"
            ],
            "image/png": "[encoded data removed]"
          },
          "metadata": {
            "needs_background": "light"
          }
        }
      ]
    },
    {
      "cell_type": "code",
      "source": [
        "confusion_matrix = skm.confusion_matrix(y_test,y_pred_svc)\n",
        "cm_display = skm.ConfusionMatrixDisplay(confusion_matrix = confusion_matrix, display_labels = [False, True])\n",
        "cm_display.plot()\n",
        "plt.show()"
      ],
      "metadata": {
        "colab": {
          "base_uri": "https://localhost:8080/",
          "height": 283
        },
        "outputId": "c8c9250e-11f0-403b-ea3d-cb9b5e2e82d5",
        "id": "7rFan6RskK7g"
      },
      "execution_count": 236,
      "outputs": [
        {
          "output_type": "display_data",
          "data": {
            "text/plain": [
              "<Figure size 432x288 with 2 Axes>"
            ],
            "image/png": "[encoded data removed]"
          },
          "metadata": {
            "needs_background": "light"
          }
        }
      ]
    },
    {
      "cell_type": "code",
      "source": [
        "confusion_matrix = skm.confusion_matrix(y_test,y_pred_mpl)\n",
        "cm_display = skm.ConfusionMatrixDisplay(confusion_matrix = confusion_matrix, display_labels = [False, True])\n",
        "cm_display.plot()\n",
        "plt.show()"
      ],
      "metadata": {
        "colab": {
          "base_uri": "https://localhost:8080/",
          "height": 283
        },
        "outputId": "6d1c3252-4098-42fd-e1fd-c6dbc15928d9",
        "id": "Tl_2SNaskK7g"
      },
      "execution_count": 237,
      "outputs": [
        {
          "output_type": "display_data",
          "data": {
            "text/plain": [
              "<Figure size 432x288 with 2 Axes>"
            ],
            "image/png": "[encoded data removed]"
          },
          "metadata": {
            "needs_background": "light"
          }
        }
      ]
    },
    {
      "cell_type": "markdown",
      "source": [
        "##Q3"
      ],
      "metadata": {
        "id": "aNh0musbn5lT"
      }
    },
    {
      "cell_type": "code",
      "source": [
        "dtc = DecisionTreeClassifier()\n",
        "dtc.fit(X_train, y_train)\n",
        "y_pred_dtc = dtc.predict(X_test)\n",
        "\n",
        "(accuracy_score(y_test,y_pred_dtc))*100"
      ],
      "metadata": {
        "colab": {
          "base_uri": "https://localhost:8080/"
        },
        "id": "hetTXDXen8BI",
        "outputId": "d1920412-5265-44dc-e1fe-319fe8f627c6"
      },
      "execution_count": 238,
      "outputs": [
        {
          "output_type": "execute_result",
          "data": {
            "text/plain": [
              "88.88888888888889"
            ]
          },
          "metadata": {},
          "execution_count": 238
        }
      ]
    },
    {
      "cell_type": "markdown",
      "source": [
        "####monte-carlo"
      ],
      "metadata": {
        "id": "CZ9zW9u1XUib"
      }
    },
    {
      "cell_type": "code",
      "source": [
        "shuffle_split=ShuffleSplit(test_size=0.33,n_splits=10)\n",
        "\n",
        "start=time.time()\n",
        "scores=cross_val_score(dtc,X,y,cv=shuffle_split,scoring='f1')\n",
        "stop=time.time()\n",
        "final=(stop-start)\n",
        "\n",
        "print(r'Time taken: %.4fs' %(final))\n",
        "print(\"F1 Score: %.4f\" %(scores.mean()))"
      ],
      "metadata": {
        "colab": {
          "base_uri": "https://localhost:8080/"
        },
        "id": "339_Vg31UKud",
        "outputId": "d5fe3dc8-e9c6-451d-928f-30eb97601264"
      },
      "execution_count": 239,
      "outputs": [
        {
          "output_type": "stream",
          "name": "stdout",
          "text": [
            "Time taken: 0.0528s\n",
            "F1 Score: 0.8999\n"
          ]
        }
      ]
    },
    {
      "cell_type": "markdown",
      "source": [
        "####leave-p-out"
      ],
      "metadata": {
        "id": "gh6etlZ8XXA0"
      }
    },
    {
      "cell_type": "code",
      "source": [
        "leave_val=LeavePOut(2)\n",
        "leave_val.get_n_splits(X)\n",
        "\n",
        "start=time.time()\n",
        "mod_score2=cross_val_score(dtc,X,y,cv=leave_val,scoring='f1')\n",
        "stop=time.time()\n",
        "final=stop-start\n",
        "\n",
        "print(r'Time taken: %.4fs' %(final))\n",
        "print(\"F1 Score:%.4f\" %(np.mean(mod_score2)))"
      ],
      "metadata": {
        "colab": {
          "base_uri": "https://localhost:8080/"
        },
        "id": "z7Votx1wXZvp",
        "outputId": "fb04c70a-cdad-432a-d1bb-4ab844b23186"
      },
      "execution_count": 240,
      "outputs": [
        {
          "output_type": "stream",
          "name": "stdout",
          "text": [
            "Time taken: 20.7100s\n",
            "F1 Score:0.7216\n"
          ]
        }
      ]
    },
    {
      "cell_type": "markdown",
      "source": [
        "###Q4"
      ],
      "metadata": {
        "id": "mUne3NbXnstT"
      }
    },
    {
      "cell_type": "code",
      "source": [
        "new_ins= pd.read_csv('/content/drive/MyDrive/IDS/new.csv')\n",
        "df = pd.read_csv('/content/drive/MyDrive/IDS/gender-prediction.csv')"
      ],
      "metadata": {
        "id": "bV2md48hnu74"
      },
      "execution_count": 241,
      "outputs": []
    },
    {
      "cell_type": "code",
      "source": [
        "new_df= [df,new_ins]\n",
        "combine_res = pd.concat(new_df,ignore_index=True)"
      ],
      "metadata": {
        "id": "jxHOkGystSTX"
      },
      "execution_count": 242,
      "outputs": []
    },
    {
      "cell_type": "code",
      "source": [
        "encode={'beard':{'yes':0,'no':1},\n",
        "        'hair_length':{'short':0,'bald':1,'medium':2,'long':3},\n",
        "        'scarf':{'no':0,'yes':1},\n",
        "        'eye_color':{'black':0,'blue':1,'gray':2,'brown':3,'green':4}\n",
        "        }\n",
        "combine_res = combine_res.replace(encode)\n",
        "X = combine_res.drop(['gender'],axis=1)\n",
        "\n",
        "le = LabelEncoder()\n",
        "y = le.fit_transform(combine_res['gender'])\n",
        "combine_res['gender']= y"
      ],
      "metadata": {
        "id": "FUHF-jT0tSHb"
      },
      "execution_count": 243,
      "outputs": []
    },
    {
      "cell_type": "code",
      "source": [
        "X_train, X_test, y_train, y_test = train_test_split(X, y, test_size=0.33, random_state=12)#(train->56,test->29)"
      ],
      "metadata": {
        "id": "9H_P0YiRz8sD"
      },
      "execution_count": 244,
      "outputs": []
    },
    {
      "cell_type": "code",
      "source": [
        "from sklearn.naive_bayes import GaussianNB\n",
        "\n",
        "gnb = GaussianNB()\n",
        "gnb = gnb.fit(X_train, y_train)\n",
        "y_pred_gnb= gnb.predict(X_test)\n",
        "\n",
        "ac=accuracy_score(y_test,y_pred_gnb)\n",
        "ps=precision_score(y_test,y_pred_gnb)\n",
        "rs=recall_score(y_test,y_pred_gnb)\n",
        "f1=f1_score(y_test,y_pred_gnb)\n",
        "print(ac,ps,rs,f1)"
      ],
      "metadata": {
        "colab": {
          "base_uri": "https://localhost:8080/"
        },
        "id": "VkQKs58nxn0k",
        "outputId": "98ae2f0f-3a15-4ef2-9923-e13b55e4f701"
      },
      "execution_count": 245,
      "outputs": [
        {
          "output_type": "stream",
          "name": "stdout",
          "text": [
            "0.9655172413793104 0.9375 1.0 0.967741935483871\n"
          ]
        }
      ]
    },
    {
      "cell_type": "code",
      "source": [
        "print(classification_report(y_pred_gnb,y_test))"
      ],
      "metadata": {
        "colab": {
          "base_uri": "https://localhost:8080/"
        },
        "id": "wM4Q1EvrymMH",
        "outputId": "87c93f33-a302-4ca9-c055-3c619d2b56f2"
      },
      "execution_count": 246,
      "outputs": [
        {
          "output_type": "stream",
          "name": "stdout",
          "text": [
            "              precision    recall  f1-score   support\n",
            "\n",
            "           0       0.93      1.00      0.96        13\n",
            "           1       1.00      0.94      0.97        16\n",
            "\n",
            "    accuracy                           0.97        29\n",
            "   macro avg       0.96      0.97      0.97        29\n",
            "weighted avg       0.97      0.97      0.97        29\n",
            "\n"
          ]
        }
      ]
    }
  ]
}